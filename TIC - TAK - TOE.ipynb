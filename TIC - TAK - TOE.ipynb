{
 "cells": [
  {
   "cell_type": "code",
   "execution_count": 1,
   "id": "59f90da1",
   "metadata": {},
   "outputs": [],
   "source": [
    "from IPython.display import clear_output\n",
    "#display Board\n",
    "def display(n_lst):\n",
    "    clear_output()\n",
    "    print('* Tik-Tak-Toe *')\n",
    "    print('o--------------o')\n",
    "    print('| ',n_lst[7],'| ',n_lst[8],'| ',n_lst[9],'|')\n",
    "    print('o--------------o')\n",
    "    print('| ',n_lst[4],'| ',n_lst[5],'| ',n_lst[6],'|')\n",
    "    print('o--------------o')\n",
    "    print('| ',n_lst[1],'| ',n_lst[2],'| ',n_lst[3],'|')\n",
    "    print('o--------------o')"
   ]
  },
  {
   "cell_type": "code",
   "execution_count": 2,
   "id": "b703a3a3",
   "metadata": {},
   "outputs": [
    {
     "name": "stdout",
     "output_type": "stream",
     "text": [
      "* Tik-Tak-Toe *\n",
      "o--------------o\n",
      "|    |    |    |\n",
      "o--------------o\n",
      "|    |    |    |\n",
      "o--------------o\n",
      "|    |    |    |\n",
      "o--------------o\n"
     ]
    }
   ],
   "source": [
    "n_lst = [' '] *10\n",
    "display(n_lst)"
   ]
  },
  {
   "cell_type": "code",
   "execution_count": 3,
   "id": "2e46bef2",
   "metadata": {},
   "outputs": [
    {
     "name": "stdout",
     "output_type": "stream",
     "text": [
      "* Tik-Tak-Toe *\n",
      "o--------------o\n",
      "|  X |  X |  X |\n",
      "o--------------o\n",
      "|  X |  X |  X |\n",
      "o--------------o\n",
      "|  X |  X |  X |\n",
      "o--------------o\n"
     ]
    }
   ],
   "source": [
    "n_lst = [' '] *10\n",
    "for i in range(9):\n",
    "    temp = int(input('Enter the input'))\n",
    "    n_lst[temp] = 'X'\n",
    "    display(n_lst)\n",
    "    "
   ]
  },
  {
   "cell_type": "code",
   "execution_count": 4,
   "id": "1d8691e7",
   "metadata": {},
   "outputs": [
    {
     "name": "stdout",
     "output_type": "stream",
     "text": [
      "* Tik-Tak-Toe *\n",
      "o--------------o\n",
      "|  X |  X |  O |\n",
      "o--------------o\n",
      "|  O |  O |  O |\n",
      "o--------------o\n",
      "|  X |  X |  X |\n",
      "o--------------o\n"
     ]
    }
   ],
   "source": [
    "n_lst = [' '] *10\n",
    "for i in range(9):\n",
    "    if(i%2==0):\n",
    "        temp = int(input('Enter the input'))\n",
    "        n_lst[temp] = 'X'\n",
    "        display(n_lst)\n",
    "    else:\n",
    "        temp = int(input('Enter the input'))\n",
    "        n_lst[temp] = 'O'\n",
    "        display(n_lst)\n",
    "    "
   ]
  },
  {
   "cell_type": "code",
   "execution_count": null,
   "id": "2855e2f9",
   "metadata": {},
   "outputs": [],
   "source": []
  },
  {
   "cell_type": "code",
   "execution_count": 5,
   "id": "e05185a8",
   "metadata": {},
   "outputs": [],
   "source": [
    "def check_winning_condition(mark,n_lst):\n",
    "    if(((n_lst[1]==mark) and (n_lst[2]==mark) and (n_lst[3]==mark)) or\n",
    "    ((n_lst[4]==mark) and (n_lst[5]==mark) and (n_lst[6]==mark)) or\n",
    "    ((n_lst[7]==mark) and (n_lst[8]==mark) and (n_lst[9]==mark)) or\n",
    "    ((n_lst[1]==mark) and (n_lst[4]==mark) and (n_lst[7]==mark)) or\n",
    "    ((n_lst[2]==mark) and (n_lst[5]==mark) and (n_lst[8]==mark)) or\n",
    "    ((n_lst[3]==mark) and (n_lst[6]==mark) and (n_lst[9]==mark)) or\n",
    "    ((n_lst[1]==mark) and (n_lst[5]==mark) and (n_lst[9]==mark)) or\n",
    "    ((n_lst[3]==mark) and (n_lst[5]==mark) and (n_lst[7]==mark))):\n",
    "        return 1\n",
    "    else:\n",
    "        return 0"
   ]
  },
  {
   "cell_type": "code",
   "execution_count": 6,
   "id": "fea2137e",
   "metadata": {},
   "outputs": [
    {
     "name": "stdout",
     "output_type": "stream",
     "text": [
      "* Tik-Tak-Toe *\n",
      "o--------------o\n",
      "|    |    |  O |\n",
      "o--------------o\n",
      "|    |  O |    |\n",
      "o--------------o\n",
      "|  X |  X |  X |\n",
      "o--------------o\n",
      "Hurrey! Player1 won!\n"
     ]
    }
   ],
   "source": [
    "# play and check for player1 and player2\n",
    "#winning and match tie status is displayed at the end \n",
    "n_lst = [' '] *10\n",
    "for i in range(9):\n",
    "    temp = int(input('Enter the input'))\n",
    "    if(i%2==0):\n",
    "        n_lst[temp] = 'X'\n",
    "        mark ='X'\n",
    "        temp1 = check_winning_condition(mark,n_lst)\n",
    "    else:\n",
    "        n_lst[temp] = 'O'\n",
    "        mark ='0'\n",
    "        temp1 = check_winning_condition(mark,n_lst)\n",
    "    display(n_lst)\n",
    "    if(temp1==1):\n",
    "        break\n",
    "if(temp1==1):\n",
    "    if(i%2==0):\n",
    "        print('Hurrey! Player1 won!')\n",
    "    else:\n",
    "        print('Hurrey! Player2 won!')\n",
    "else:\n",
    "        print('There is a Tie')"
   ]
  },
  {
   "cell_type": "code",
   "execution_count": null,
   "id": "7c4003c7",
   "metadata": {},
   "outputs": [],
   "source": [
    "# play and check for player1 and player2\n",
    "#winning and match tie status is displayed at the end \n",
    "while(True):\n",
    "    n_lst = [' '] *10\n",
    "    for i in range(9):\n",
    "        temp = int(input('Enter the input'))\n",
    "        if(i%2==0):\n",
    "            n_lst[temp] = 'X'\n",
    "            mark ='X'\n",
    "            temp1 = check_winning_condition(mark,n_lst)\n",
    "        else:\n",
    "            n_lst[temp] = 'O'\n",
    "            mark ='0'\n",
    "            temp1 = check_winning_condition(mark,n_lst)\n",
    "        display(n_lst)\n",
    "        if(temp1==1):\n",
    "            break\n",
    "    if(temp1==1):\n",
    "        if(i%2==0):\n",
    "            print('Hurrey! Player1 won!')\n",
    "        else:\n",
    "            print('Hurrey! Player2 won!')\n",
    "    else:\n",
    "        print('There is a Tie')       \n",
    "    replay_status = input('Do you want to play again..? - enter yes or no:')\n",
    "    if(replay_status == 'no'):\n",
    "        break\n",
    "    "
   ]
  },
  {
   "cell_type": "code",
   "execution_count": null,
   "id": "d8725ffa",
   "metadata": {},
   "outputs": [],
   "source": []
  },
  {
   "cell_type": "code",
   "execution_count": null,
   "id": "38d5809b",
   "metadata": {},
   "outputs": [],
   "source": []
  },
  {
   "cell_type": "code",
   "execution_count": null,
   "id": "1b68ae4b",
   "metadata": {},
   "outputs": [],
   "source": []
  },
  {
   "cell_type": "code",
   "execution_count": null,
   "id": "6f309103",
   "metadata": {},
   "outputs": [],
   "source": []
  },
  {
   "cell_type": "code",
   "execution_count": null,
   "id": "2a187a5e",
   "metadata": {},
   "outputs": [],
   "source": []
  },
  {
   "cell_type": "code",
   "execution_count": null,
   "id": "40bbce1d",
   "metadata": {},
   "outputs": [],
   "source": []
  },
  {
   "cell_type": "code",
   "execution_count": null,
   "id": "e8e1e89f",
   "metadata": {},
   "outputs": [],
   "source": []
  },
  {
   "cell_type": "code",
   "execution_count": null,
   "id": "71b4dbd4",
   "metadata": {},
   "outputs": [],
   "source": []
  },
  {
   "cell_type": "code",
   "execution_count": null,
   "id": "d6b0bed0",
   "metadata": {},
   "outputs": [],
   "source": []
  },
  {
   "cell_type": "code",
   "execution_count": null,
   "id": "f51110e9",
   "metadata": {},
   "outputs": [],
   "source": []
  },
  {
   "cell_type": "code",
   "execution_count": null,
   "id": "204682c2",
   "metadata": {},
   "outputs": [],
   "source": []
  },
  {
   "cell_type": "code",
   "execution_count": null,
   "id": "f322d184",
   "metadata": {},
   "outputs": [],
   "source": []
  },
  {
   "cell_type": "code",
   "execution_count": null,
   "id": "0db071bc",
   "metadata": {},
   "outputs": [],
   "source": []
  },
  {
   "cell_type": "code",
   "execution_count": null,
   "id": "dcebb8ad",
   "metadata": {},
   "outputs": [],
   "source": []
  },
  {
   "cell_type": "code",
   "execution_count": null,
   "id": "d265a309",
   "metadata": {},
   "outputs": [],
   "source": []
  },
  {
   "cell_type": "code",
   "execution_count": null,
   "id": "1ff37c48",
   "metadata": {},
   "outputs": [],
   "source": []
  },
  {
   "cell_type": "code",
   "execution_count": null,
   "id": "5dfbc012",
   "metadata": {},
   "outputs": [],
   "source": []
  },
  {
   "cell_type": "code",
   "execution_count": null,
   "id": "a54339e6",
   "metadata": {},
   "outputs": [],
   "source": []
  },
  {
   "cell_type": "code",
   "execution_count": null,
   "id": "b45992ad",
   "metadata": {},
   "outputs": [],
   "source": []
  },
  {
   "cell_type": "code",
   "execution_count": null,
   "id": "4d8fd85a",
   "metadata": {},
   "outputs": [],
   "source": []
  },
  {
   "cell_type": "code",
   "execution_count": null,
   "id": "55245553",
   "metadata": {},
   "outputs": [],
   "source": []
  },
  {
   "cell_type": "code",
   "execution_count": null,
   "id": "1d168f22",
   "metadata": {},
   "outputs": [],
   "source": []
  },
  {
   "cell_type": "code",
   "execution_count": null,
   "id": "160a81f3",
   "metadata": {},
   "outputs": [],
   "source": []
  },
  {
   "cell_type": "code",
   "execution_count": null,
   "id": "6cc07f87",
   "metadata": {},
   "outputs": [],
   "source": []
  },
  {
   "cell_type": "code",
   "execution_count": null,
   "id": "61ddaf09",
   "metadata": {},
   "outputs": [],
   "source": []
  },
  {
   "cell_type": "code",
   "execution_count": null,
   "id": "2914b4e9",
   "metadata": {},
   "outputs": [],
   "source": []
  },
  {
   "cell_type": "code",
   "execution_count": null,
   "id": "d087a444",
   "metadata": {},
   "outputs": [],
   "source": []
  },
  {
   "cell_type": "code",
   "execution_count": null,
   "id": "3747d926",
   "metadata": {},
   "outputs": [],
   "source": []
  },
  {
   "cell_type": "code",
   "execution_count": null,
   "id": "4b12cc36",
   "metadata": {},
   "outputs": [],
   "source": []
  },
  {
   "cell_type": "code",
   "execution_count": null,
   "id": "8e0c5203",
   "metadata": {},
   "outputs": [],
   "source": []
  },
  {
   "cell_type": "code",
   "execution_count": null,
   "id": "87fde0d8",
   "metadata": {},
   "outputs": [],
   "source": []
  },
  {
   "cell_type": "code",
   "execution_count": null,
   "id": "4af93802",
   "metadata": {},
   "outputs": [],
   "source": []
  },
  {
   "cell_type": "code",
   "execution_count": null,
   "id": "f88b3f3d",
   "metadata": {},
   "outputs": [],
   "source": []
  },
  {
   "cell_type": "code",
   "execution_count": null,
   "id": "e5412a40",
   "metadata": {},
   "outputs": [],
   "source": []
  },
  {
   "cell_type": "code",
   "execution_count": null,
   "id": "4fb5402e",
   "metadata": {},
   "outputs": [],
   "source": []
  },
  {
   "cell_type": "code",
   "execution_count": null,
   "id": "2f45c65e",
   "metadata": {},
   "outputs": [],
   "source": []
  },
  {
   "cell_type": "code",
   "execution_count": null,
   "id": "a47f7412",
   "metadata": {},
   "outputs": [],
   "source": []
  },
  {
   "cell_type": "code",
   "execution_count": null,
   "id": "576d9702",
   "metadata": {},
   "outputs": [],
   "source": []
  },
  {
   "cell_type": "code",
   "execution_count": null,
   "id": "76ee31fd",
   "metadata": {},
   "outputs": [],
   "source": []
  },
  {
   "cell_type": "code",
   "execution_count": null,
   "id": "0f04e7f9",
   "metadata": {},
   "outputs": [],
   "source": []
  }
 ],
 "metadata": {
  "kernelspec": {
   "display_name": "Python 3 (ipykernel)",
   "language": "python",
   "name": "python3"
  },
  "language_info": {
   "codemirror_mode": {
    "name": "ipython",
    "version": 3
   },
   "file_extension": ".py",
   "mimetype": "text/x-python",
   "name": "python",
   "nbconvert_exporter": "python",
   "pygments_lexer": "ipython3",
   "version": "3.9.7"
  }
 },
 "nbformat": 4,
 "nbformat_minor": 5
}
